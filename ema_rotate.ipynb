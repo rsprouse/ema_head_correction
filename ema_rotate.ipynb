{
 "cells": [
  {
   "cell_type": "code",
   "execution_count": 1,
   "metadata": {},
   "outputs": [],
   "source": [
    "import os, re, sys\n",
    "import numpy as np\n",
    "import pandas as pd\n",
    "\n",
    "import rowan                       # conda install -c conda-forge rowan\n",
    "import ipyvolume as ipv            # conda install -c conda-forge ipyvolume\n",
    "from phonlab.utils import dir2df   # pip install git+https://github.com/rsprouse/phonlab"
   ]
  },
  {
   "cell_type": "markdown",
   "metadata": {},
   "source": [
    "# Load inventory of files"
   ]
  },
  {
   "cell_type": "code",
   "execution_count": 2,
   "metadata": {},
   "outputs": [],
   "source": [
    "datadir = 'data/'\n",
    "\n",
    "# Subject we will analyze.\n",
    "subj = 'knight'\n",
    "\n",
    "# Filenaming like:\n",
    "# knight_occlusal_001.wav, knight_no_ref_000.tsv, knight_palate_002.wco\n",
    "acqpat = re.compile(\n",
    "    '''\n",
    "    ^                      # filename starts with...\n",
    "    (?P<sname>[^_]+)       # subject name (series of non-underscore chars)\n",
    "    _                      # underscore\n",
    "    (?P<acqtype>.+)        # acquisition type (series of chars, including underscore)\n",
    "    _                      # underscore\n",
    "    (?P<trial>\\d+)         # left-padded integer trial number\n",
    "    \\.(tsv|wav|wco)        # file extension\n",
    "    $                      # ...and no more\n",
    "    ''',\n",
    "    re.VERBOSE\n",
    ")\n",
    "\n",
    "# These aren't used in this notebook.\n",
    "sensors = [\"REF\",\"UL\",\"LL\",\"JW\",\"TT\",\"TB\",\"TD\",\"TL\",\"LC\",\"UI\",\"J\",\"OS\",\"MS\",\"PL\"]\n",
    "subcolumns = [\"ID\",\"frame\",\"state\",\"q0\",\"qx\",\"qy\",\"qz\",\"x\",\"y\",\"z\"] "
   ]
  },
  {
   "cell_type": "code",
   "execution_count": 3,
   "metadata": {},
   "outputs": [
    {
     "data": {
      "text/html": [
       "<div>\n",
       "<style scoped>\n",
       "    .dataframe tbody tr th:only-of-type {\n",
       "        vertical-align: middle;\n",
       "    }\n",
       "\n",
       "    .dataframe tbody tr th {\n",
       "        vertical-align: top;\n",
       "    }\n",
       "\n",
       "    .dataframe thead th {\n",
       "        text-align: right;\n",
       "    }\n",
       "</style>\n",
       "<table border=\"1\" class=\"dataframe\">\n",
       "  <thead>\n",
       "    <tr style=\"text-align: right;\">\n",
       "      <th></th>\n",
       "      <th>subject</th>\n",
       "      <th>occlusal</th>\n",
       "      <th>palate</th>\n",
       "      <th>rightMastoid</th>\n",
       "      <th>leftMastoid</th>\n",
       "      <th>nasion</th>\n",
       "      <th>tongueBack</th>\n",
       "      <th>tongueDorsum</th>\n",
       "      <th>tongueBlade</th>\n",
       "      <th>tongueBody</th>\n",
       "      <th>...</th>\n",
       "      <th>frontOcclusal</th>\n",
       "      <th>palateTrace</th>\n",
       "      <th>palateStart</th>\n",
       "      <th>palateEnd</th>\n",
       "      <th>ceilingWindowFlag</th>\n",
       "      <th>ceilingWindowLength</th>\n",
       "      <th>lowPassFlag</th>\n",
       "      <th>lowPassHz</th>\n",
       "      <th>percentBackCutoff</th>\n",
       "      <th>percentFrontCutoff</th>\n",
       "    </tr>\n",
       "  </thead>\n",
       "  <tbody>\n",
       "    <tr>\n",
       "      <th>0</th>\n",
       "      <td>subject_K01</td>\n",
       "      <td>K01/knight_occlusal_000</td>\n",
       "      <td>K01/knight_occlusal_001</td>\n",
       "      <td>10</td>\n",
       "      <td>9</td>\n",
       "      <td>11</td>\n",
       "      <td>-1</td>\n",
       "      <td>-1</td>\n",
       "      <td>-1</td>\n",
       "      <td>-1</td>\n",
       "      <td>...</td>\n",
       "      <td>7</td>\n",
       "      <td>-1</td>\n",
       "      <td>0</td>\n",
       "      <td>10000</td>\n",
       "      <td>1</td>\n",
       "      <td>0.1</td>\n",
       "      <td>1</td>\n",
       "      <td>0.125</td>\n",
       "      <td>8</td>\n",
       "      <td>8</td>\n",
       "    </tr>\n",
       "  </tbody>\n",
       "</table>\n",
       "<p>1 rows × 32 columns</p>\n",
       "</div>"
      ],
      "text/plain": [
       "       subject                 occlusal                   palate  \\\n",
       "0  subject_K01  K01/knight_occlusal_000  K01/knight_occlusal_001   \n",
       "\n",
       "   rightMastoid  leftMastoid  nasion  tongueBack  tongueDorsum  tongueBlade  \\\n",
       "0            10            9      11          -1            -1           -1   \n",
       "\n",
       "   tongueBody         ...          frontOcclusal  palateTrace  palateStart  \\\n",
       "0          -1         ...                      7           -1            0   \n",
       "\n",
       "   palateEnd  ceilingWindowFlag  ceilingWindowLength  lowPassFlag  lowPassHz  \\\n",
       "0      10000                  1                  0.1            1      0.125   \n",
       "\n",
       "   percentBackCutoff  percentFrontCutoff  \n",
       "0                  8                   8  \n",
       "\n",
       "[1 rows x 32 columns]"
      ]
     },
     "execution_count": 3,
     "metadata": {},
     "output_type": "execute_result"
    }
   ],
   "source": [
    "detdf = pd.read_excel(os.path.join(datadir, 'subject_details.xlsx'))\n",
    "detdf"
   ]
  },
  {
   "cell_type": "markdown",
   "metadata": {},
   "source": [
    "Map sensor names to abbreviations. (The mapping itself is currently unused, but the list of sensor names `sensname` is used.)"
   ]
  },
  {
   "cell_type": "code",
   "execution_count": 4,
   "metadata": {},
   "outputs": [],
   "source": [
    "name2abbr = {\n",
    "    'rightMastoid': 'rMS',\n",
    "    'leftMastoid': 'lMS',\n",
    "    'nasion': 'NS',\n",
    "    'tongueBack': 'TB',\n",
    "    'tongueDorsum': 'TD',\n",
    "    'tongueBlade': 'TBl',\n",
    "    'tongueBody': 'TBd',\n",
    "    'tongueLeft': 'lTNG',\n",
    "    'tongueTip': 'TT',\n",
    "    'tongueRight': 'rTNG',\n",
    "    'upperIncisor': 'UI',\n",
    "    'lowerIncisor': 'LI',\n",
    "    'upperLip': 'UL',\n",
    "    'lowerLip': 'LL',\n",
    "    'rightUltrasound': 'rUS',\n",
    "    'leftUltrasound': 'lUS',\n",
    "    'frontUltrasound': 'fUS',\n",
    "    'rightOcclusal': 'rOC',\n",
    "    'leftOcclusal': 'lOC',\n",
    "    'frontOcclusal': 'fOC',\n",
    "}\n",
    "sensnames = list(name2abbr.keys())\n",
    "\n",
    "# Doublecheck for duplicate abbreviations.\n",
    "try:\n",
    "    assert(sorted(list(set(name2abbr.values())))) == sorted(list(name2abbr.values()))\n",
    "except AssertionError:\n",
    "    sys.stderr.write('WARNING: name2abbr has a duplicated abbreviation.\\n')"
   ]
  },
  {
   "cell_type": "markdown",
   "metadata": {},
   "source": [
    "Set up the sensor map, based on the subject_details file. This is specific to the K01 dataset. For other datasets, construct a dict that maps sensor keys to channel index."
   ]
  },
  {
   "cell_type": "code",
   "execution_count": 5,
   "metadata": {},
   "outputs": [
    {
     "data": {
      "text/plain": [
       "{'rightMastoid': 9,\n",
       " 'leftMastoid': 8,\n",
       " 'nasion': 10,\n",
       " 'upperIncisor': 3,\n",
       " 'lowerIncisor': 5,\n",
       " 'lowerLip': 4,\n",
       " 'rightOcclusal': 7,\n",
       " 'leftOcclusal': 0,\n",
       " 'frontOcclusal': 6}"
      ]
     },
     "execution_count": 5,
     "metadata": {},
     "output_type": "execute_result"
    }
   ],
   "source": [
    "sampsubj = detdf[detdf.subject == 'subject_K01'].iloc[0]\n",
    "# Subtract 1 from sensor number since this is Python, not Matlab.\n",
    "smap = {\n",
    "    n: sampsubj[n]-1 for n in sampsubj.index if n in sensnames and sampsubj[n] > 0\n",
    "}\n",
    "smap"
   ]
  },
  {
   "cell_type": "code",
   "execution_count": 6,
   "metadata": {},
   "outputs": [
    {
     "data": {
      "text/html": [
       "<div>\n",
       "<style scoped>\n",
       "    .dataframe tbody tr th:only-of-type {\n",
       "        vertical-align: middle;\n",
       "    }\n",
       "\n",
       "    .dataframe tbody tr th {\n",
       "        vertical-align: top;\n",
       "    }\n",
       "\n",
       "    .dataframe thead th {\n",
       "        text-align: right;\n",
       "    }\n",
       "</style>\n",
       "<table border=\"1\" class=\"dataframe\">\n",
       "  <thead>\n",
       "    <tr style=\"text-align: right;\">\n",
       "      <th></th>\n",
       "      <th>dirname</th>\n",
       "      <th>relpath</th>\n",
       "      <th>fname</th>\n",
       "      <th>barename</th>\n",
       "      <th>ext</th>\n",
       "      <th>bytes</th>\n",
       "      <th>sname</th>\n",
       "      <th>acqtype</th>\n",
       "      <th>trial</th>\n",
       "    </tr>\n",
       "  </thead>\n",
       "  <tbody>\n",
       "    <tr>\n",
       "      <th>0</th>\n",
       "      <td>data/</td>\n",
       "      <td>.</td>\n",
       "      <td>knight_no_ref_000.tsv</td>\n",
       "      <td>knight_no_ref_000</td>\n",
       "      <td>.tsv</td>\n",
       "      <td>10184962</td>\n",
       "      <td>knight</td>\n",
       "      <td>no_ref</td>\n",
       "      <td>000</td>\n",
       "    </tr>\n",
       "    <tr>\n",
       "      <th>1</th>\n",
       "      <td>data/</td>\n",
       "      <td>.</td>\n",
       "      <td>knight_no_ref_000.wav</td>\n",
       "      <td>knight_no_ref_000</td>\n",
       "      <td>.wav</td>\n",
       "      <td>2654208</td>\n",
       "      <td>knight</td>\n",
       "      <td>no_ref</td>\n",
       "      <td>000</td>\n",
       "    </tr>\n",
       "    <tr>\n",
       "      <th>2</th>\n",
       "      <td>data/</td>\n",
       "      <td>.</td>\n",
       "      <td>knight_no_ref_000.wco</td>\n",
       "      <td>knight_no_ref_000</td>\n",
       "      <td>.wco</td>\n",
       "      <td>3138</td>\n",
       "      <td>knight</td>\n",
       "      <td>no_ref</td>\n",
       "      <td>000</td>\n",
       "    </tr>\n",
       "    <tr>\n",
       "      <th>3</th>\n",
       "      <td>data/</td>\n",
       "      <td>.</td>\n",
       "      <td>knight_occlusal_001.tsv</td>\n",
       "      <td>knight_occlusal_001</td>\n",
       "      <td>.tsv</td>\n",
       "      <td>659738</td>\n",
       "      <td>knight</td>\n",
       "      <td>occlusal</td>\n",
       "      <td>001</td>\n",
       "    </tr>\n",
       "    <tr>\n",
       "      <th>4</th>\n",
       "      <td>data/</td>\n",
       "      <td>.</td>\n",
       "      <td>knight_occlusal_001.wav</td>\n",
       "      <td>knight_occlusal_001</td>\n",
       "      <td>.wav</td>\n",
       "      <td>180224</td>\n",
       "      <td>knight</td>\n",
       "      <td>occlusal</td>\n",
       "      <td>001</td>\n",
       "    </tr>\n",
       "    <tr>\n",
       "      <th>5</th>\n",
       "      <td>data/</td>\n",
       "      <td>.</td>\n",
       "      <td>knight_occlusal_001.wco</td>\n",
       "      <td>knight_occlusal_001</td>\n",
       "      <td>.wco</td>\n",
       "      <td>3138</td>\n",
       "      <td>knight</td>\n",
       "      <td>occlusal</td>\n",
       "      <td>001</td>\n",
       "    </tr>\n",
       "    <tr>\n",
       "      <th>6</th>\n",
       "      <td>data/</td>\n",
       "      <td>.</td>\n",
       "      <td>knight_with_ref_001.tsv</td>\n",
       "      <td>knight_with_ref_001</td>\n",
       "      <td>.tsv</td>\n",
       "      <td>9538730</td>\n",
       "      <td>knight</td>\n",
       "      <td>with_ref</td>\n",
       "      <td>001</td>\n",
       "    </tr>\n",
       "    <tr>\n",
       "      <th>7</th>\n",
       "      <td>data/</td>\n",
       "      <td>.</td>\n",
       "      <td>knight_with_ref_001.wav</td>\n",
       "      <td>knight_with_ref_001</td>\n",
       "      <td>.wav</td>\n",
       "      <td>2646016</td>\n",
       "      <td>knight</td>\n",
       "      <td>with_ref</td>\n",
       "      <td>001</td>\n",
       "    </tr>\n",
       "    <tr>\n",
       "      <th>8</th>\n",
       "      <td>data/</td>\n",
       "      <td>.</td>\n",
       "      <td>knight_with_ref_001.wco</td>\n",
       "      <td>knight_with_ref_001</td>\n",
       "      <td>.wco</td>\n",
       "      <td>2956</td>\n",
       "      <td>knight</td>\n",
       "      <td>with_ref</td>\n",
       "      <td>001</td>\n",
       "    </tr>\n",
       "  </tbody>\n",
       "</table>\n",
       "</div>"
      ],
      "text/plain": [
       "  dirname relpath                    fname             barename   ext  \\\n",
       "0   data/       .    knight_no_ref_000.tsv    knight_no_ref_000  .tsv   \n",
       "1   data/       .    knight_no_ref_000.wav    knight_no_ref_000  .wav   \n",
       "2   data/       .    knight_no_ref_000.wco    knight_no_ref_000  .wco   \n",
       "3   data/       .  knight_occlusal_001.tsv  knight_occlusal_001  .tsv   \n",
       "4   data/       .  knight_occlusal_001.wav  knight_occlusal_001  .wav   \n",
       "5   data/       .  knight_occlusal_001.wco  knight_occlusal_001  .wco   \n",
       "6   data/       .  knight_with_ref_001.tsv  knight_with_ref_001  .tsv   \n",
       "7   data/       .  knight_with_ref_001.wav  knight_with_ref_001  .wav   \n",
       "8   data/       .  knight_with_ref_001.wco  knight_with_ref_001  .wco   \n",
       "\n",
       "      bytes   sname   acqtype trial  \n",
       "0  10184962  knight    no_ref   000  \n",
       "1   2654208  knight    no_ref   000  \n",
       "2      3138  knight    no_ref   000  \n",
       "3    659738  knight  occlusal   001  \n",
       "4    180224  knight  occlusal   001  \n",
       "5      3138  knight  occlusal   001  \n",
       "6   9538730  knight  with_ref   001  \n",
       "7   2646016  knight  with_ref   001  \n",
       "8      2956  knight  with_ref   001  "
      ]
     },
     "execution_count": 6,
     "metadata": {},
     "output_type": "execute_result"
    }
   ],
   "source": [
    "sfiles = dir2df(\n",
    "    datadir,\n",
    "    fnpat=acqpat,\n",
    "    addcols=['dirname', 'barename', 'ext', 'bytes']\n",
    ")\n",
    "sfiles"
   ]
  },
  {
   "cell_type": "markdown",
   "metadata": {},
   "source": [
    "Do some data checking. The next cell checks to see whether each acquisition has the full set of .tsv, .wav, and .wco files and will print acquisitions that lack any of those. If all acquisitions are complete the output will be empty."
   ]
  },
  {
   "cell_type": "code",
   "execution_count": 7,
   "metadata": {},
   "outputs": [
    {
     "data": {
      "text/html": [
       "<div>\n",
       "<style scoped>\n",
       "    .dataframe tbody tr th:only-of-type {\n",
       "        vertical-align: middle;\n",
       "    }\n",
       "\n",
       "    .dataframe tbody tr th {\n",
       "        vertical-align: top;\n",
       "    }\n",
       "\n",
       "    .dataframe thead th {\n",
       "        text-align: right;\n",
       "    }\n",
       "</style>\n",
       "<table border=\"1\" class=\"dataframe\">\n",
       "  <thead>\n",
       "    <tr style=\"text-align: right;\">\n",
       "      <th></th>\n",
       "    </tr>\n",
       "  </thead>\n",
       "  <tbody>\n",
       "  </tbody>\n",
       "</table>\n",
       "</div>"
      ],
      "text/plain": [
       "Empty DataFrame\n",
       "Columns: []\n",
       "Index: []"
      ]
     },
     "execution_count": 7,
     "metadata": {},
     "output_type": "execute_result"
    }
   ],
   "source": [
    "ftypes = set(['.tsv', '.wav', '.wco'])\n",
    "sfiles.groupby(['acqtype', 'trial']).apply(\n",
    "    lambda x: x if ftypes.difference(x.ext.values) != set() else None\n",
    ")"
   ]
  },
  {
   "cell_type": "markdown",
   "metadata": {},
   "source": [
    "Doublecheck there are no empty files. The expected output is an empty dataframe."
   ]
  },
  {
   "cell_type": "code",
   "execution_count": 8,
   "metadata": {},
   "outputs": [
    {
     "data": {
      "text/html": [
       "<div>\n",
       "<style scoped>\n",
       "    .dataframe tbody tr th:only-of-type {\n",
       "        vertical-align: middle;\n",
       "    }\n",
       "\n",
       "    .dataframe tbody tr th {\n",
       "        vertical-align: top;\n",
       "    }\n",
       "\n",
       "    .dataframe thead th {\n",
       "        text-align: right;\n",
       "    }\n",
       "</style>\n",
       "<table border=\"1\" class=\"dataframe\">\n",
       "  <thead>\n",
       "    <tr style=\"text-align: right;\">\n",
       "      <th></th>\n",
       "      <th>dirname</th>\n",
       "      <th>relpath</th>\n",
       "      <th>fname</th>\n",
       "      <th>barename</th>\n",
       "      <th>ext</th>\n",
       "      <th>bytes</th>\n",
       "      <th>sname</th>\n",
       "      <th>acqtype</th>\n",
       "      <th>trial</th>\n",
       "    </tr>\n",
       "  </thead>\n",
       "  <tbody>\n",
       "  </tbody>\n",
       "</table>\n",
       "</div>"
      ],
      "text/plain": [
       "Empty DataFrame\n",
       "Columns: [dirname, relpath, fname, barename, ext, bytes, sname, acqtype, trial]\n",
       "Index: []"
      ]
     },
     "execution_count": 8,
     "metadata": {},
     "output_type": "execute_result"
    }
   ],
   "source": [
    "sfiles[sfiles.bytes == 0]"
   ]
  },
  {
   "cell_type": "markdown",
   "metadata": {},
   "source": [
    "# Define some functions\n",
    "\n",
    "These should be moved to a separate file when ready."
   ]
  },
  {
   "cell_type": "code",
   "execution_count": 115,
   "metadata": {},
   "outputs": [],
   "source": [
    "class NDIData(object):\n",
    "    '''\n",
    "    A representation of NDI Wave tsv data.\n",
    "    \n",
    "    Instantiate the NDIData object with the path to a .tsv file and mapping of\n",
    "    sensor names to channel index in the .tsv file. The .tsv file is expected to\n",
    "    have one (time) column at the left, followed by repetitions of sets\n",
    "    of columns consisting of a 'State' column (and possibly others, e.g.\n",
    "    channel name and frame identifier) followed by columns Q0, Qx, Qy, Qz, Tx, Ty, Tz\n",
    "    in exactly that order. These repetitions are expected to occur regularly\n",
    "    with no exception, other than the possibility of empty columns identified\n",
    "    in the header with ' ', which are ignored. The Q0...Tz columns may have\n",
    "    suffixes appended to them, either in the .tsv file or as a side effect of\n",
    "    `read_csv`.\n",
    "    \n",
    "    The sensor map is a dictionary of the form {'sensor_name': idx, ...}, with the\n",
    "    index 0 indicating the first repetition of Q0...Tz columns and index 1 for the\n",
    "    second repetition.\n",
    "    \n",
    "    By default the 'State' values are processed to replace Q0...Tz values with\n",
    "    `Nan` for any sensor-frame that is not 'OK'. Replacement occurs automatically\n",
    "    when the `NDIData` object is instantiated unless `replace_bad` is set to\n",
    "    `False`.\n",
    "    \n",
    "    Access to the .tsv data is available as a dataframe via the `df` attribute:\n",
    "    \n",
    "    ```\n",
    "    tsv = NDIData(tsvpath, sensormap)\n",
    "    tsv.df\n",
    "    ```\n",
    "    \n",
    "    Convenience methods are provided to access the Q0...Tz columns for all sensors or a\n",
    "    set of sensors as a 3d numpy ndarray, with dimensions 0) frame index (time);\n",
    "    1) sensors; 2) Q0...Tz. Use `qtvals` to return columns [`Q0`, `Qx`, `Qy`, `Qz`,\n",
    "    `Tx`, `Ty`, `Tz`] for a given set of sensors. Use `qvals` to return only\n",
    "    [`Q0`, `Qx`, `Qy`, `Qz`], and use `tvals` to return only [`Tx`, `Ty`, `Tz`] for\n",
    "    the given sensors.\n",
    "    \n",
    "    ```\n",
    "    # Return 3d ndarray (axes: time, sensor, Q0...Tz)\n",
    "    tsv.qtvals()                          # Return Q0, Qx, Qy, Qz, Tx, Ty, Tz for all sensors\n",
    "    tsv.qvals(['nasion', 'leftMastoid'])  # Return Q0, Qx, Qy, Qz for two sensors\n",
    "    tsv.tvals(['nasion', 'leftMastoid'])  # Return Tx, Ty, Tz for two sensors\n",
    "    '''\n",
    "\n",
    "    def __init__(self, tsvname, sensormap, replace_bad=True, time_col='Wav Time'):\n",
    "        ''''''\n",
    "        self.df = pd.read_csv(\n",
    "            tsvname,\n",
    "            sep='\\t',\n",
    "            # Skip empty columns, which have a whitespace-only header.\n",
    "            usecols=lambda head: head != ' ',\n",
    "        )\n",
    "        self.sensormap = sensormap\n",
    "        self.rev_sensormap = {v: k for k, v in sensormap.items()}\n",
    "        self.time_col = time_col\n",
    "        if replace_bad is True:\n",
    "            self._set_bad_to_nan()\n",
    "        # TODO: relabel columns with sensor names?\n",
    "\n",
    "    def _set_bad_to_nan(self):\n",
    "        '''Set values of Q/T columns to NaN if corresponding 'State' column\n",
    "        is not 'OK'.'''\n",
    "        bad = self.df.loc[:,self.df.columns.str.match('[Ss]tate')] != 'OK'\n",
    "        qtvals = self.qtvals()\n",
    "        qtvals[bad] = np.nan  # bad should broadcast along Q0Txyz dimension        \n",
    "        self.replace_columns(qtvals, qt='QT') # Put new qtvals back into dataframe.\n",
    "    \n",
    "    def qtindexes(self, qt, sensors=None):\n",
    "        '''Return a list of column integer indexes in self.df for the Q/T columns for\n",
    "        given sensors. The Q/T columns for a given sensor are assumed to be\n",
    "        in the order Q0, Qx, Qy, Qz, Tx, Ty, Tz with no other columns\n",
    "        intervening.\n",
    "            \n",
    "        This should be robust whether the Q/T values have additional\n",
    "        suffixes or not, e.g. Q0, Q0.1, Q0.15, etc.\n",
    "            \n",
    "        The value of sensors should be a list of keys in self.sensormap.\n",
    "        If sensors is None, include all sensors.\n",
    "        '''\n",
    "\n",
    "        # Get indexes of all Q0/Tx columns.\n",
    "        qtmap = {'Q': 'Q0', 'T': 'Tx', 'QT': 'Q0'}\n",
    "        q0s = (\n",
    "            self.df.columns.str.match('^{:}'.format(qtmap[qt]))\n",
    "        ).nonzero()[0]\n",
    "\n",
    "        # Test our assumption that Q/T0 channels are equally-spaced.\n",
    "        try:\n",
    "            assert(np.diff(q0s).std() == 0)\n",
    "        except AssertionError:\n",
    "            msg = 'Q/T channels are not equally-spaced!\\n'\n",
    "            raise RuntimeError(msg)\n",
    "\n",
    "        # Calculate the indexes of the selected Q0/Tx columns.\n",
    "        step = int(np.diff(q0s)[0])\n",
    "        # First get sensor indexes, e.g. in range 0-15.\n",
    "        if sensors is None:  # Use all sensors.\n",
    "            snums = np.arange(len(q0s))\n",
    "        else:\n",
    "            snums = np.array([self.sensormap[n] for n in sensors])\n",
    "        # Multiply by step and add column offset from left.\n",
    "        snums = (snums * step) + q0s[0]\n",
    "        # Add the x,y,z column indexes and flatten the list.\n",
    "        if qt == 'Q':\n",
    "            qnums = [(n, n+1, n+2, n+3) for n in snums]\n",
    "        elif qt == 'T':\n",
    "            qnums = [(n, n+1, n+2) for n in snums]\n",
    "        elif qt == 'QT':\n",
    "            qnums = [(n, n+1, n+2, n+3, n+4, n+5, n+6) for n in snums]\n",
    "        flatnums = [item for sublist in qnums for item in sublist]\n",
    "        return flatnums\n",
    "\n",
    "    def replace_columns(self, vals, qt, sensors=None):\n",
    "        '''Replace column data in self.df with new values from an ndarray.\n",
    "        \n",
    "        Parameters\n",
    "        ----------\n",
    "        \n",
    "        vals: 2D or 3D ndarray\n",
    "            New values for replacement. If 3D, `vals` has axes (time, sensors, Q0...Tz)\n",
    "            and will be reshaped to 2D to match the dataframe column arrangement; the\n",
    "            latter two dimensions are collapsed. An input 2D array must have the same\n",
    "            axes arrangement as the reshaped 3D array.\n",
    "            \n",
    "        qt: str ('QT', 'Q', or 'T')\n",
    "            The kinds of new column data in `vals`. Use 'QT' if replacing all 'Q' and\n",
    "            'T' values. Use 'Q' if replacing only 'Q' values and 'T' if only 'T' values.\n",
    "            If `vals` is 3D, then the shape of second dimension must match the `qt`\n",
    "            value: {'QT': 7, 'Q': 4, 'T': 3}.\n",
    "            \n",
    "        sensors: list of str\n",
    "            List of sensor values in `vals`. For 3D `vals` the third axis must be the\n",
    "            same length as `sensors`.\n",
    "\n",
    "        Returns\n",
    "        -------\n",
    "        Returns True on success. Raises an error if assignment does not succeed.\n",
    "\n",
    "        '''\n",
    "        try:\n",
    "            assert(len(vals) == len(self.df))\n",
    "        except AssertionError:\n",
    "            msg = \"Can't replace columns. New values are not equal in length to old.\\n\"\n",
    "            raise ValueError(msg)\n",
    "        if len(vals.shape) == 3:\n",
    "            vals = vals.reshape(len(vals), -1)\n",
    "        try:\n",
    "            self.df.iloc[:, self.qtindexes(qt=qt, sensors=sensors)] = vals\n",
    "        except:\n",
    "            msg = \"Could not replace columns with new data.\\n\"\n",
    "            raise ValueError(msg)\n",
    "        return True\n",
    "\n",
    "    def _qt_getter(self, qt, sensors=None, start=None, end=None):\n",
    "        '''Get Q and/or T values. To be called by qtvals(), qvals(), tvals().'''\n",
    "        qtlen = {'QT': 7, 'Q': 4, 'T': 3}\n",
    "        tidx = self.time_range_as_int_index(start, end)\n",
    "        d = self.df.iloc[tidx, self.qtindexes(qt, sensors)]\n",
    "        return d.values.reshape(len(tidx), -1, qtlen[qt])\n",
    "        \n",
    "    def qtvals(self, sensors=None, start=None, end=None):\n",
    "        '''Return the Q0, Qx, Qy, Qz, Tx, Ty, Tz values for given sensors\n",
    "        as a 3d ndarray. If sensors is None, return all sensors.\n",
    "        \n",
    "        The dimensions are:\n",
    "            frame index (time)\n",
    "            sensors\n",
    "            0xyz,xyz coordinates\n",
    "        '''\n",
    "        return self._qt_getter('QT', sensors, start, end)\n",
    "\n",
    "    def qvals(self, sensors=None, start=None, end=None):\n",
    "        '''Return the Q0, Qx, Qy, Qz values for given sensors as a 3d ndarray.\n",
    "        If sensors is None, return all sensors.\n",
    "        \n",
    "        The dimensions are:\n",
    "            frame index (time)\n",
    "            sensors\n",
    "            0xyz values\n",
    "        '''\n",
    "        return self._qt_getter('Q', sensors, start, end)\n",
    "\n",
    "    def tvals(self, sensors=None, start=None, end=None):\n",
    "        '''Return the Tx, Ty, Tz values for given sensors as a 3d ndarray.\n",
    "        If sensors is None, return all sensors.\n",
    "        \n",
    "        The dimensions are:\n",
    "            frame index (time)\n",
    "            sensors\n",
    "            xyz coordinates\n",
    "        '''\n",
    "        return self._qt_getter('T', sensors, start, end)\n",
    "\n",
    "    def time_range_as_int_index(self, start=None, end=None):\n",
    "        '''Return the 0-based integer indexes of the rows in self.df where the time column\n",
    "        is in the range specified by `start` and `end`.\n",
    "        \n",
    "        Parameters\n",
    "        ----------\n",
    "        \n",
    "        start: numeric\n",
    "            The start time for the returned range. Integer indexes for times greater than or\n",
    "            equal to `start` are returned. If `start` is not specified, 0.0 is the default.\n",
    "            \n",
    "        end: numeric\n",
    "            The end time for the returned range. Integer indexes for times less than or\n",
    "            equal to `end` are returned. If `end` is not specified, np.Inf is the default.\n",
    "        '''\n",
    "        if start is None:\n",
    "            start = 0.0\n",
    "        if end is None:\n",
    "            end = np.Inf\n",
    "        return np.flatnonzero(\n",
    "            (self.df[self.time_col] >= start) & (self.df[self.time_col] <= end)\n",
    "        )\n",
    "\n",
    "    def time_range(self, start=None, end=None):\n",
    "        '''Return the time values for the range specified by `start` and `end`.'''\n",
    "        tidx = self.time_range_as_int_index(start=start, end=end)\n",
    "        return self.df[self.time_col].iloc[tidx].values\n",
    "\n",
    "def ideal_biteplate(pts, right=0, left=1, front=2):\n",
    "    '''Calculate angles and length of the triangle formed by the\n",
    "occlusal biteplate sensors. Return the coordinates of an identical\n",
    "triangle that has the desired location and orientation.\n",
    "# TODO: filter out frames if status != 'OK'\n",
    "pts : 3D or 2D ndarray\n",
    "    Axes are:\n",
    "        triangle index, (normally time or frame number)\n",
    "        sensors (default [occlusalRight, occlusalLeft, occlusalFront])\n",
    "        coordinates [x,y,z],\n",
    "    If a 2D array is passed, the value is assumed to be a single triangle\n",
    "    with sensors comprising the first dimension and coordinates [x,y,z]\n",
    "    the second.\n",
    "\n",
    "right : int (default 0)\n",
    "    The index in the third dimension of points where the occlusalRight\n",
    "    sensor is located.\n",
    "\n",
    "left : int (default 1)\n",
    "    The index in the third dimension of points where the occlusalLeft\n",
    "    sensor is located.\n",
    "\n",
    "front : int (default 2)\n",
    "    The index in the third dimension of points where the occlusalFront\n",
    "    sensor is located.\n",
    "\n",
    "Returns\n",
    "-------\n",
    "ideals : 3D or 2D ndarray\n",
    "    Return an array of idealized triangle point coordinates that define triangles\n",
    "    of the same size and shape as the input triangles and situated into a \n",
    "    desired reference orientation. If the input is 2D (a single triangle), then\n",
    "    the returned value is also 2D.\n",
    "\n",
    "    In the reference orientation each triangle lies on the xy plane where z=0.\n",
    "    The occlusalRight and occlusalLeft sensors are placed on the x axis (x=0) and\n",
    "    equidistant from the origin, i.e. they are centered at y=0.\n",
    "    \n",
    "    The occlusalFront sensor is placed in the x dimension at the height of the\n",
    "    triangle from the base defined by the right and left sensors. If the input\n",
    "    triangles were perfect isosceles the occlusalFront sensor would be on the\n",
    "    x axis (y=0), but we assume that they are not perfect and calculate the\n",
    "    y dimension for the occlusalFront sensor as well.\n",
    "# TODO: return mean idealbp\n",
    "'''\n",
    "    # OR = occlusalRight (right)\n",
    "    # OL = occlusalLeft (left)\n",
    "    # OF = occlusalFront (front)\n",
    "#           OF\n",
    "#          /|\\\n",
    "#         b h c\n",
    "#        /  |  \\\n",
    "#       OR--a--OL\n",
    "#       Angle at OL = alpha\n",
    "\n",
    "    return_2d = False\n",
    "    if len(pts.shape) == 2:\n",
    "        pts = np.array([pts])\n",
    "        return_2d = True\n",
    "    try:\n",
    "        assert(len(pts.shape) == 3 and pts.shape[1:3] == (3, 3))\n",
    "    except AssertionError:\n",
    "        msg = 'Input must be shape (N, 3, 3) or (3, 3)\\n.'\n",
    "        raise RuntimeError(msg)\n",
    "\n",
    "    # Map names of axes to their indexes.\n",
    "    [x, y, z] = [0, 1, 2]  # indexes of coordinate labels in second dimension of pts\n",
    "\n",
    "    # Initialize all point coordinates to (0,0,0).\n",
    "    ideals = np.zeros_like(pts)\n",
    "\n",
    "    # Find lengths of the triangle sides with the Distance Formula (3d):\n",
    "    # √(\n",
    "    #    (x2 - x1)**2 + (y2 - y1)**2 + (z2 - z1)**2\n",
    "    #  )\n",
    "    [a, b, c] = [\n",
    "        np.sqrt(\n",
    "            np.sum(\n",
    "                np.square(\n",
    "                    pts[:,p2,[x,y,z]] - pts[:,p1,[x,y,z]]\n",
    "                ),\n",
    "            axis=1)\n",
    "        ) for p2, p1 in [(right, left), (right, front), (left, front)]\n",
    "    ]\n",
    "\n",
    "    # Step 1. occlusalRight and occlusalLeft\n",
    "    # Put points OR and OL along y axis at x,z=0, with length a and centered\n",
    "    # at y=0, i.e. put OL at y = (half of a) and OR at y = -(half of a).\n",
    "# TODO: does this swap signs?\n",
    "    ideals[:,left,y] = a / 2\n",
    "    ideals[:,right,y] = -ideals[:,y,left]\n",
    "\n",
    "    # Step 2. occlusalFront\n",
    "    # Calculate the area of the triangle from the sides using Heron's formula.\n",
    "    s = (a + b + c) / 2  # Semi-perimeter of the triangle.\n",
    "    area = np.sqrt(s * (s - a) * (s - b) * (s - c)) # Heron's formula.\n",
    "    \n",
    "    # Calculate the height of the triangle from side a to OF using Area Formula.\n",
    "    h = (2 * area) / a\n",
    "\n",
    "    # Put point OF at distance h in x dimension.\n",
    "    ideals[:,front,x] = h\n",
    "    \n",
    "    # Put point OF at correct distance in y dimension. If the biteplate were\n",
    "    # perfectly constructed this would be at y=0.\n",
    "    # Use the Law of Cosines to find angle alpha (OL), then calculate y\n",
    "    # value of point OF.\n",
    "    alpha = np.arccos(\n",
    "        ((a**2) + (b**2) - (c**2)) / (2 * a * b)\n",
    "    )\n",
    "    ideals[:,front,y] = (a / 2) - (np.cos(alpha) * c)\n",
    "    if return_2d is True:\n",
    "        ideals = ideals.squeeze()\n",
    "    return ideals\n",
    "\n",
    "def transform_frame(hdvals, idealhd, allvals):\n",
    "    '''Transform a frame of sensor data by comparing fixed head sensor values to\n",
    "    ideal head position.\n",
    "    \n",
    "    Parameters\n",
    "    ----------\n",
    "    \n",
    "    hdvals: 2D array (shape: N, 3)\n",
    "        Fixed head position sensor readings for the frame.\n",
    "        \n",
    "    idealhd: 2D array (shape: N, 3)\n",
    "        Idealized fixed head positions.\n",
    "        \n",
    "    allvals: 2D array (shape: N, 3)\n",
    "        All sensor values to be rotated.\n",
    "        \n",
    "    For all arrays, the first axis is sensors (N), and the second `xyz`.\n",
    "    \n",
    "    The first dimension of `hdvals` and `idealhd` must have corresponding sensors (N) in\n",
    "    identical order (normally there are three).\n",
    "    \n",
    "    The `allvals` array can include all sensors and the sensors need not be the same\n",
    "    size or in the same order as `hdvals` and `idealhd` (normally N > 3).\n",
    "    \n",
    "    Returns\n",
    "    -------\n",
    "    \n",
    "    rotated: 2D array\n",
    "        The rotated values.\n",
    "    '''\n",
    "    R, t = rowan.mapping.kabsch(hdvals, idealhd)\n",
    "    q = rowan.from_matrix(R)  # Convert to quaternion\n",
    "    return rowan.rotate(q, allvals) + t"
   ]
  },
  {
   "cell_type": "markdown",
   "metadata": {},
   "source": [
    "Get metadata for the biteplate recording."
   ]
  },
  {
   "cell_type": "code",
   "execution_count": 116,
   "metadata": {},
   "outputs": [
    {
     "data": {
      "text/plain": [
       "dirname                       data/\n",
       "relpath                           .\n",
       "fname       knight_occlusal_001.tsv\n",
       "barename        knight_occlusal_001\n",
       "ext                            .tsv\n",
       "bytes                        659738\n",
       "sname                        knight\n",
       "acqtype                    occlusal\n",
       "trial                           001\n",
       "Name: 3, dtype: object"
      ]
     },
     "execution_count": 116,
     "metadata": {},
     "output_type": "execute_result"
    }
   ],
   "source": [
    "tsv = sfiles[\n",
    "    (sfiles.barename.str.match('{:}_occlusal_'.format(subj))) & (sfiles.ext == '.tsv')\n",
    "].iloc[0]\n",
    "tsv"
   ]
  },
  {
   "cell_type": "markdown",
   "metadata": {},
   "source": [
    "## Biteplate rotation\n",
    "\n",
    "Load the biteplate recording. "
   ]
  },
  {
   "cell_type": "code",
   "execution_count": 117,
   "metadata": {},
   "outputs": [],
   "source": [
    "occ = NDIData(\n",
    "    tsvname=os.path.join(tsv.dirname, tsv.fname),\n",
    "    sensormap=smap"
   ]
  },
  {
   "cell_type": "markdown",
   "metadata": {},
   "source": [
    "Use the `tvals` method get the `Tx`, `Ty`, and `Tz` columns for a list of sensors."
   ]
  },
  {
   "cell_type": "code",
   "execution_count": 118,
   "metadata": {},
   "outputs": [],
   "source": [
    "scalefactor = 0.01   # Scale to make plotting easier\n",
    "bpsensors = ['rightOcclusal', 'leftOcclusal', 'frontOcclusal']\n",
    "bpvals = occ.tvals(bpsensors) * scalefactor"
   ]
  },
  {
   "cell_type": "markdown",
   "metadata": {},
   "source": [
    "Get idealized biteplate sensor values in reference orientation."
   ]
  },
  {
   "cell_type": "code",
   "execution_count": 119,
   "metadata": {},
   "outputs": [],
   "source": [
    "idealbp = np.nanmean(ideal_biteplate(bpvals), axis=0)"
   ]
  },
  {
   "cell_type": "markdown",
   "metadata": {},
   "source": [
    "Calculate the rotation and translation from the mean input biteplate to the ideal biteplate."
   ]
  },
  {
   "cell_type": "code",
   "execution_count": 120,
   "metadata": {},
   "outputs": [],
   "source": [
    "R, t = rowan.mapping.kabsch(\n",
    "    np.nanmean(bpvals, axis=0),\n",
    "    idealbp\n",
    ")\n",
    "q = rowan.from_matrix(R)  # Convert to quaternion"
   ]
  },
  {
   "cell_type": "markdown",
   "metadata": {},
   "source": [
    "As a check, transform `bpvals` using the calculated rotation and translation."
   ]
  },
  {
   "cell_type": "code",
   "execution_count": 121,
   "metadata": {},
   "outputs": [],
   "source": [
    "rotbp = rowan.rotate(q, bpvals) + t"
   ]
  },
  {
   "cell_type": "markdown",
   "metadata": {},
   "source": [
    "## Plot biteplate rotation\n",
    "\n",
    "Select a frame and see how the biteplate looks. The original biteplate is plotted with red diamonds at the vertices and a yellow surface. The target ideal biteplate is plotted with blue vertices, and the calculated rotation of the original biteplate is an orange surface. If the rotation was done well the orange surface should fit neatly in the blue vertices.\n",
    "\n",
    "Note that ipyvolume plots require `x, y, z` as the first three arguments. We transpose the frame data to put the `xyz` axis first and use the splat operator `*` to separate the columns into the three input arguments."
   ]
  },
  {
   "cell_type": "code",
   "execution_count": 122,
   "metadata": {},
   "outputs": [
    {
     "data": {
      "application/vnd.jupyter.widget-view+json": {
       "model_id": "de0b7b9f70a842c4881655e4e6eba8c8",
       "version_major": 2,
       "version_minor": 0
      },
      "text/plain": [
       "VBox(children=(Figure(camera=PerspectiveCamera(fov=46.0, position=(0.0, 0.0, 2.0), quaternion=(0.0, 0.0, 0.0, …"
      ]
     },
     "metadata": {},
     "output_type": "display_data"
    }
   ],
   "source": [
    "frame = 0  # Select a frame to view.\n",
    "ipv.clear()\n",
    "\n",
    "# Original biteplate values.\n",
    "ipv.scatter(*bpvals[frame,:,:].T, size=2, color='red', marker='diamond')  # ‘arrow’, ‘box’, ‘diamond’, ‘sphere’, ‘point_2d’, ‘square_2d’, ‘triangle_2d’, ‘circle_2d’\n",
    "ipv.plot_trisurf(*bpvals[frame,:,:].T, triangles=[0, 1, 2], color='yellow')\n",
    "\n",
    "# Ideal biteplate values.\n",
    "ipv.scatter(*idealbp.T, size=2, color='blue')\n",
    "ipv.plot_trisurf(*rotbp[frame,:,:].T, triangles=[0, 1, 2], color='orange')\n",
    "ipv.show()"
   ]
  },
  {
   "cell_type": "markdown",
   "metadata": {},
   "source": [
    "## Ideal head position\n",
    "\n",
    "If the biteplate rotations look good, then apply the same transform to the head position sensors from the biteplate recording."
   ]
  },
  {
   "cell_type": "code",
   "execution_count": 123,
   "metadata": {},
   "outputs": [],
   "source": [
    "hdsensors = ['rightMastoid', 'leftMastoid', 'nasion']\n",
    "hdvals = occ.tvals(hdsensors) * scalefactor\n",
    "idealhd = rowan.rotate(q, hdvals) + t\n",
    "idealhd = np.nanmean(idealhd, axis=0)"
   ]
  },
  {
   "cell_type": "markdown",
   "metadata": {},
   "source": [
    "As a check, transform `hdvals` using the calculated rotation and translation."
   ]
  },
  {
   "cell_type": "code",
   "execution_count": 124,
   "metadata": {},
   "outputs": [],
   "source": [
    "rothd = rowan.rotate(q, hdvals) + t"
   ]
  },
  {
   "cell_type": "markdown",
   "metadata": {},
   "source": [
    "## Plot ideal head position\n",
    "\n",
    "As with the biteplate, the original head position is displayed with red vertices and a yellow surface. The target head position is shown by the blue vertices, and the rotated head positions are shown by the orange surface."
   ]
  },
  {
   "cell_type": "code",
   "execution_count": 125,
   "metadata": {},
   "outputs": [
    {
     "data": {
      "application/vnd.jupyter.widget-view+json": {
       "model_id": "99c606907fc540f5b4abe8bfc255b4c7",
       "version_major": 2,
       "version_minor": 0
      },
      "text/plain": [
       "VBox(children=(Figure(camera=PerspectiveCamera(fov=46.0, position=(0.0, 0.0, 2.0), quaternion=(0.0, 0.0, 0.0, …"
      ]
     },
     "metadata": {},
     "output_type": "display_data"
    }
   ],
   "source": [
    "frame = 0  # Select a frame to view.\n",
    "ipv.clear()\n",
    "\n",
    "# Original biteplate values.\n",
    "ipv.scatter(*hdvals[frame,:,:].T, size=2, color='red', marker='diamond')  # ‘arrow’, ‘box’, ‘diamond’, ‘sphere’, ‘point_2d’, ‘square_2d’, ‘triangle_2d’, ‘circle_2d’\n",
    "ipv.plot_trisurf(*hdvals[frame,:,:].T, triangles=[0, 1, 2], color='yellow')\n",
    "\n",
    "# Ideal biteplate values.\n",
    "ipv.scatter(*idealhd.T, size=2, color='blue')\n",
    "ipv.plot_trisurf(*rothd[frame,:,:].T, triangles=[0, 1, 2], color='orange')\n",
    "ipv.show()"
   ]
  },
  {
   "cell_type": "markdown",
   "metadata": {},
   "source": [
    "## Rotate a full acquisition\n",
    "\n",
    "Get metadata for the acquisition."
   ]
  },
  {
   "cell_type": "code",
   "execution_count": 126,
   "metadata": {},
   "outputs": [
    {
     "data": {
      "text/plain": [
       "dirname                     data/\n",
       "relpath                         .\n",
       "fname       knight_no_ref_000.tsv\n",
       "barename        knight_no_ref_000\n",
       "ext                          .tsv\n",
       "bytes                    10184962\n",
       "sname                      knight\n",
       "acqtype                    no_ref\n",
       "trial                         000\n",
       "Name: 0, dtype: object"
      ]
     },
     "execution_count": 126,
     "metadata": {},
     "output_type": "execute_result"
    }
   ],
   "source": [
    "tsv = sfiles[\n",
    "    (sfiles.barename.str.match('{:}_no_ref_'.format(subj))) & (sfiles.ext == '.tsv')\n",
    "].iloc[0]\n",
    "tsv"
   ]
  },
  {
   "cell_type": "markdown",
   "metadata": {},
   "source": [
    "Load the recording.\n",
    "\n",
    "*NOTE* The only metadata in subject_details.xls is related to the biteplate recording. We'll assume the sensormap from that recording is the same and reuse it. Unfortunately this sensor map does not list many sensors of interest, like the tongue sensors."
   ]
  },
  {
   "cell_type": "code",
   "execution_count": 127,
   "metadata": {},
   "outputs": [],
   "source": [
    "wref = NDIData(\n",
    "    tsvname=os.path.join(tsv.dirname, tsv.fname),\n",
    "    sensormap=smap\n",
    ")"
   ]
  },
  {
   "cell_type": "markdown",
   "metadata": {},
   "source": [
    "Get the head positions."
   ]
  },
  {
   "cell_type": "code",
   "execution_count": 128,
   "metadata": {},
   "outputs": [
    {
     "data": {
      "text/plain": [
       "(6004, 3, 3)"
      ]
     },
     "execution_count": 128,
     "metadata": {},
     "output_type": "execute_result"
    }
   ],
   "source": [
    "hdvals = wref.tvals(hdsensors) * scalefactor\n",
    "hdvals.shape"
   ]
  },
  {
   "cell_type": "markdown",
   "metadata": {},
   "source": [
    "Also get all sensor values.\n",
    "\n",
    "*NOTE* This is limited to sensors for which we can guess a mapping based on the biteplate acquisition."
   ]
  },
  {
   "cell_type": "code",
   "execution_count": 129,
   "metadata": {},
   "outputs": [
    {
     "data": {
      "text/plain": [
       "(100, 6, 3)"
      ]
     },
     "execution_count": 129,
     "metadata": {},
     "output_type": "execute_result"
    }
   ],
   "source": [
    "sensors = hdsensors + ['upperIncisor', 'lowerIncisor', 'lowerLip']\n",
    "start = 0.5\n",
    "end = 1.0\n",
    "tvals = wref.tvals(sensors, start=start, end=end) * scalefactor\n",
    "tvals.shape"
   ]
  },
  {
   "cell_type": "markdown",
   "metadata": {},
   "source": [
    "For each frame, find transform to move the fixed head sensors to the ideal position and apply to all sensors."
   ]
  },
  {
   "cell_type": "code",
   "execution_count": 130,
   "metadata": {},
   "outputs": [],
   "source": [
    "rothd = np.zeros_like(tvals) * np.nan\n",
    "for idx in np.arange(len(tvals)):\n",
    "    try:\n",
    "        rothd[idx,:,:] = transform_frame(hdvals[idx,:,:], idealhd, tvals[idx,:,:])\n",
    "    except np.linalg.LinAlgError as e:\n",
    "        msg = \"Could not rotate frame {:d}. \".format(idx)\n",
    "        sys.stderr.write(msg)\n",
    "        sys.stderr.write(str(e) + '\\n')"
   ]
  },
  {
   "cell_type": "markdown",
   "metadata": {},
   "source": [
    "## Plot the rotated sensors\n",
    "\n",
    "*Note* We only have sensor mappings for a few points, the fixed head sensors plus 'upperIncisor', 'lowerIncisor', 'lowerLip'.\n",
    "\n",
    "The results here look pretty good. The rotated sensor values (green) show the incisor and lip sensors lined up with the nasion sensor."
   ]
  },
  {
   "cell_type": "code",
   "execution_count": 131,
   "metadata": {},
   "outputs": [
    {
     "data": {
      "application/vnd.jupyter.widget-view+json": {
       "model_id": "acebc9defcc04fc1b72313f6878c9b0f",
       "version_major": 2,
       "version_minor": 0
      },
      "text/plain": [
       "VBox(children=(Figure(camera=PerspectiveCamera(fov=46.0, position=(0.0, 0.0, 2.0), quaternion=(0.0, 0.0, 0.0, …"
      ]
     },
     "metadata": {},
     "output_type": "display_data"
    }
   ],
   "source": [
    "frame = 50  # Select a frame to view.\n",
    "ipv.clear()\n",
    "\n",
    "# Original head position values.\n",
    "ipv.scatter(*hdvals[frame,:,:].T, size=2, color='red', marker='diamond')  # ‘arrow’, ‘box’, ‘diamond’, ‘sphere’, ‘point_2d’, ‘square_2d’, ‘triangle_2d’, ‘circle_2d’\n",
    "ipv.plot_trisurf(*hdvals[frame,:,:].T, triangles=[0, 1, 2], color='yellow')\n",
    "\n",
    "# Ideal head position values.\n",
    "ipv.scatter(*idealhd.T, size=2, color='blue')\n",
    "ipv.plot_trisurf(*rothd[frame,:,:].T, triangles=[0, 1, 2], color='orange')\n",
    "\n",
    "# Rotated sensors plotted in green.\n",
    "ipv.scatter(*rothd[frame,:,:].T, size=2, color='green')\n",
    "ipv.show()"
   ]
  },
  {
   "cell_type": "code",
   "execution_count": 132,
   "metadata": {},
   "outputs": [
    {
     "data": {
      "application/vnd.jupyter.widget-view+json": {
       "model_id": "afe0e2c3423f4757836427d4b11d406a",
       "version_major": 2,
       "version_minor": 0
      },
      "text/plain": [
       "VBox(children=(Figure(animation=5.0, camera=PerspectiveCamera(fov=46.0, position=(0.0, 0.0, 2.0), quaternion=(…"
      ]
     },
     "metadata": {},
     "output_type": "display_data"
    }
   ],
   "source": [
    "ipv.clear()\n",
    "\n",
    "# Original head position values.\n",
    "#ipv.scatter(*hdvals[frame,:,:].T, size=2, color='red', marker='diamond')  # ‘arrow’, ‘box’, ‘diamond’, ‘sphere’, ‘point_2d’, ‘square_2d’, ‘triangle_2d’, ‘circle_2d’\n",
    "#ipv.plot_trisurf(*hdvals[frame,:,:].T, triangles=[0, 1, 2], color='yellow')\n",
    "\n",
    "# Ideal head position values.\n",
    "#ipv.scatter(*idealhd.T, size=2, color='blue')\n",
    "#ipv.plot_trisurf(*np.swapaxes(rothd, 1, 2), triangles=[0, 1, 2], color='orange')\n",
    "\n",
    "# Rotated sensors plotted in green.\n",
    "s = []\n",
    "snsrs = [\n",
    "    # right mastoid,    left mastoid           nasion\n",
    "    (0, 'red', 'box'), (1, 'red', 'diamond'), (2, 'red', 'sphere'),\n",
    "    (3, 'green', 'box'), (4, 'green', 'diamond'), (5, 'green', 'sphere')\n",
    "    # upper incisor       lower incisor            lower lip\n",
    "]\n",
    "for snsr, color, marker in snsrs:\n",
    "    s.append(\n",
    "        ipv.scatter(\n",
    "            *np.expand_dims(\n",
    "                np.moveaxis(rothd, 2, 0)[:,:,snsr],\n",
    "                axis=2\n",
    "            ),\n",
    "            size=4,\n",
    "            color=color,\n",
    "            marker=marker\n",
    "        )\n",
    "    )\n",
    "ipv.animation_control(s, interval=5, sequence_length=len(rothd))\n",
    "ipv.show()\n",
    "#ipv.save('testanim.html', title='test_animation', offline=True)\n",
    "#ipv.movie('testanim.mp4', fps=200, frames=200)"
   ]
  },
  {
   "cell_type": "code",
   "execution_count": 139,
   "metadata": {},
   "outputs": [
    {
     "data": {
      "text/plain": [
       "array([2, 3])"
      ]
     },
     "execution_count": 139,
     "metadata": {},
     "output_type": "execute_result"
    }
   ],
   "source": [
    "np.flatnonzero((occ.df['Wav Time'] >= 0.01) & (occ.df['Wav Time'] <= 0.02))"
   ]
  },
  {
   "cell_type": "code",
   "execution_count": 43,
   "metadata": {},
   "outputs": [
    {
     "ename": "TypeError",
     "evalue": "plot_head() got an unexpected keyword argument 'ideal_markers'",
     "output_type": "error",
     "traceback": [
      "\u001b[0;31m---------------------------------------------------------------------------\u001b[0m",
      "\u001b[0;31mTypeError\u001b[0m                                 Traceback (most recent call last)",
      "\u001b[0;32m<ipython-input-43-73b5935736aa>\u001b[0m in \u001b[0;36m<module>\u001b[0;34m\u001b[0m\n\u001b[1;32m      7\u001b[0m     \u001b[0;32mreturn\u001b[0m \u001b[0mfig\u001b[0m\u001b[0;34m\u001b[0m\u001b[0;34m\u001b[0m\u001b[0m\n\u001b[1;32m      8\u001b[0m \u001b[0;34m\u001b[0m\u001b[0m\n\u001b[0;32m----> 9\u001b[0;31m \u001b[0mfig\u001b[0m \u001b[0;34m=\u001b[0m \u001b[0mplot_head\u001b[0m\u001b[0;34m(\u001b[0m\u001b[0midealhd\u001b[0m\u001b[0;34m,\u001b[0m \u001b[0mrothd\u001b[0m\u001b[0;34m[\u001b[0m\u001b[0mframe\u001b[0m\u001b[0;34m,\u001b[0m\u001b[0;34m:\u001b[0m\u001b[0;34m,\u001b[0m\u001b[0;34m:\u001b[0m\u001b[0;34m]\u001b[0m\u001b[0;34m,\u001b[0m \u001b[0mideal_markers\u001b[0m\u001b[0;34m=\u001b[0m\u001b[0;34m[\u001b[0m\u001b[0;34m'box'\u001b[0m\u001b[0;34m,\u001b[0m \u001b[0;34m'diamond'\u001b[0m\u001b[0;34m,\u001b[0m \u001b[0;34m'sphere'\u001b[0m\u001b[0;34m]\u001b[0m\u001b[0;34m)\u001b[0m\u001b[0;34m\u001b[0m\u001b[0;34m\u001b[0m\u001b[0m\n\u001b[0m",
      "\u001b[0;31mTypeError\u001b[0m: plot_head() got an unexpected keyword argument 'ideal_markers'"
     ]
    }
   ],
   "source": [
    "def plot_head(ideal_fixed, rot_fixed, ideal_markers):\n",
    "    fig = ipv.figure()\n",
    "    ipv.scatter(*ideal_fixed.T, size=2, color='blue', marker)\n",
    "    ipv.plot_trisurf(*rot_fixed.T, triangles=[0, 1, 2], color='orange')\n",
    "\n",
    "    ipv.show()\n",
    "    return fig\n",
    "\n",
    "fig = plot_head(idealhd, rothd[frame,:,:], ideal_markers=['box', 'diamond', 'sphere'])"
   ]
  }
 ],
 "metadata": {
  "kernelspec": {
   "display_name": "Python 3",
   "language": "python",
   "name": "python3"
  },
  "language_info": {
   "codemirror_mode": {
    "name": "ipython",
    "version": 3
   },
   "file_extension": ".py",
   "mimetype": "text/x-python",
   "name": "python",
   "nbconvert_exporter": "python",
   "pygments_lexer": "ipython3",
   "version": "3.7.1"
  }
 },
 "nbformat": 4,
 "nbformat_minor": 2
}
