{
 "cells": [
  {
   "cell_type": "code",
   "execution_count": 2,
   "metadata": {},
   "outputs": [],
   "source": [
    "\n",
    "import numpy as np\n",
    "import matplotlib.pyplot as plt\n",
    "import ema"
   ]
  },
  {
   "cell_type": "code",
   "execution_count": null,
   "metadata": {},
   "outputs": [],
   "source": [
    "directory = \"data\"\n",
    "file = \"knight_no_ref_000.tsv\"\n",
    "\n",
    "sensors = [\"REF\",\"UL\",\"LL\",\"JW\",\"TT\",\"TB\",\"TD\",\"TL\",\"LC\",\"UI\",\"J\",\"OS\",\"MS\",\"PL\"]\n",
    "subcolumns = [\"ID\",\"frame\",\"state\",\"q0\",\"qx\",\"qy\",\"qz\",\"x\",\"y\",\"z\"] \n"
   ]
  }
 ],
 "metadata": {
  "kernelspec": {
   "display_name": "Python 3",
   "language": "python",
   "name": "python3"
  },
  "language_info": {
   "codemirror_mode": {
    "name": "ipython",
    "version": 3
   },
   "file_extension": ".py",
   "mimetype": "text/x-python",
   "name": "python",
   "nbconvert_exporter": "python",
   "pygments_lexer": "ipython3",
   "version": "3.7.2"
  }
 },
 "nbformat": 4,
 "nbformat_minor": 2
}
